{
 "cells": [
  {
   "cell_type": "code",
   "execution_count": 23,
   "id": "dba07a9e",
   "metadata": {},
   "outputs": [],
   "source": [
    "import numpy as np\n",
    "import pandas as pd\n",
    "import matplotlib.pyplot as plt\n",
    "import seaborn as sns\n",
    "import tensorflow as tf\n",
    "from tensorflow import keras\n",
    "from tensorflow.keras import layers\n",
    "from sklearn.model_selection import train_test_split"
   ]
  },
  {
   "cell_type": "code",
   "execution_count": 25,
   "id": "1d7eab9c",
   "metadata": {},
   "outputs": [],
   "source": [
    "df = pd.read_csv(\"spam.csv\", encoding='latin-1')\n",
    "df = df.drop(['Unnamed: 2', 'Unnamed: 3', 'Unnamed: 4'], axis=1)\n",
    "df = df.rename(columns={'v1': 'label', 'v2': 'Text'})\n",
    "df['label_enc'] = df['label'].map({'ham': 0, 'spam': 1})"
   ]
  },
  {
   "cell_type": "code",
   "execution_count": 26,
   "id": "09bb914d",
   "metadata": {},
   "outputs": [],
   "source": [
    "X, y = np.asanyarray(df['Text']), np.asanyarray(df['label_enc'])\n",
    "new_df = pd.DataFrame({'Text': X, 'label': y})\n",
    "X_train, X_test, y_train, y_test = train_test_split(new_df['Text'], new_df['label'], test_size=0.2, random_state=42)"
   ]
  },
  {
   "cell_type": "code",
   "execution_count": 27,
   "id": "aed6fcdc",
   "metadata": {},
   "outputs": [],
   "source": [
    "tokenizer = keras.preprocessing.text.Tokenizer(num_words=10000, oov_token=\"<OOV>\")\n",
    "tokenizer.fit_on_texts(X_train)\n",
    "word_index = tokenizer.word_index\n"
   ]
  },
  {
   "cell_type": "code",
   "execution_count": 28,
   "id": "4d58a67e",
   "metadata": {},
   "outputs": [],
   "source": [
    "train_sequences = tokenizer.texts_to_sequences(X_train)\n",
    "test_sequences = tokenizer.texts_to_sequences(X_test)"
   ]
  },
  {
   "cell_type": "code",
   "execution_count": 29,
   "id": "4995b31f",
   "metadata": {},
   "outputs": [],
   "source": [
    "train_padded = keras.preprocessing.sequence.pad_sequences(train_sequences, maxlen=120, padding='post', truncating='post')\n",
    "test_padded = keras.preprocessing.sequence.pad_sequences(test_sequences, maxlen=120, padding='post', truncating='post')"
   ]
  },
  {
   "cell_type": "code",
   "execution_count": 34,
   "id": "ea7ddc92",
   "metadata": {},
   "outputs": [],
   "source": [
    "model = keras.Sequential([\n",
    "    layers.Embedding(10000, 16),\n",
    "    layers.GlobalAveragePooling1D(),\n",
    "    layers.Dense(16, activation='relu'),\n",
    "    layers.Dense(1, activation='sigmoid')\n",
    "])"
   ]
  },
  {
   "cell_type": "code",
   "execution_count": 36,
   "id": "5811b093",
   "metadata": {},
   "outputs": [],
   "source": [
    "model.compile(optimizer='adam', loss='binary_crossentropy', metrics=['accuracy'])"
   ]
  },
  {
   "cell_type": "code",
   "execution_count": 38,
   "id": "cbdbe03c",
   "metadata": {},
   "outputs": [
    {
     "name": "stdout",
     "output_type": "stream",
     "text": [
      "Epoch 1/10\n",
      "140/140 [==============================] - 1s 5ms/step - loss: 0.0377 - accuracy: 0.9892 - val_loss: 0.0728 - val_accuracy: 0.9794\n",
      "Epoch 2/10\n",
      "140/140 [==============================] - 1s 5ms/step - loss: 0.0314 - accuracy: 0.9910 - val_loss: 0.0677 - val_accuracy: 0.9803\n",
      "Epoch 3/10\n",
      "140/140 [==============================] - 1s 5ms/step - loss: 0.0270 - accuracy: 0.9924 - val_loss: 0.0729 - val_accuracy: 0.9794\n",
      "Epoch 4/10\n",
      "140/140 [==============================] - 1s 5ms/step - loss: 0.0238 - accuracy: 0.9939 - val_loss: 0.0686 - val_accuracy: 0.9803\n",
      "Epoch 5/10\n",
      "140/140 [==============================] - 1s 5ms/step - loss: 0.0206 - accuracy: 0.9942 - val_loss: 0.0655 - val_accuracy: 0.9830\n",
      "Epoch 6/10\n",
      "140/140 [==============================] - 1s 6ms/step - loss: 0.0179 - accuracy: 0.9955 - val_loss: 0.0634 - val_accuracy: 0.9830\n",
      "Epoch 7/10\n",
      "140/140 [==============================] - 1s 5ms/step - loss: 0.0154 - accuracy: 0.9957 - val_loss: 0.0664 - val_accuracy: 0.9830\n",
      "Epoch 8/10\n",
      "140/140 [==============================] - 1s 5ms/step - loss: 0.0140 - accuracy: 0.9964 - val_loss: 0.0620 - val_accuracy: 0.9830\n",
      "Epoch 9/10\n",
      "140/140 [==============================] - 1s 5ms/step - loss: 0.0127 - accuracy: 0.9966 - val_loss: 0.0669 - val_accuracy: 0.9830\n",
      "Epoch 10/10\n",
      "140/140 [==============================] - 1s 5ms/step - loss: 0.0113 - accuracy: 0.9975 - val_loss: 0.0654 - val_accuracy: 0.9839\n"
     ]
    }
   ],
   "source": [
    "history = model.fit(train_padded, y_train, epochs=10, validation_data=(test_padded, y_test))"
   ]
  },
  {
   "cell_type": "code",
   "execution_count": 39,
   "id": "366060a4",
   "metadata": {},
   "outputs": [
    {
     "name": "stdout",
     "output_type": "stream",
     "text": [
      "35/35 [==============================] - 0s 3ms/step - loss: 0.0654 - accuracy: 0.9839\n",
      "Accuracy: 98.39%\n"
     ]
    }
   ],
   "source": [
    "loss, accuracy = model.evaluate(test_padded, y_test)\n",
    "print(\"Accuracy: {:.2f}%\".format(accuracy * 100))"
   ]
  }
 ],
 "metadata": {
  "kernelspec": {
   "display_name": "Python 3 (ipykernel)",
   "language": "python",
   "name": "python3"
  },
  "language_info": {
   "codemirror_mode": {
    "name": "ipython",
    "version": 3
   },
   "file_extension": ".py",
   "mimetype": "text/x-python",
   "name": "python",
   "nbconvert_exporter": "python",
   "pygments_lexer": "ipython3",
   "version": "3.11.5"
  }
 },
 "nbformat": 4,
 "nbformat_minor": 5
}
